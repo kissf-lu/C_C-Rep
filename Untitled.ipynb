{
 "cells": [
  {
   "cell_type": "code",
   "execution_count": 8,
   "metadata": {},
   "outputs": [
    {
     "name": "stdout",
     "output_type": "stream",
     "text": [
      "*******************************\n",
      "add: 3.000000\n",
      "*******************************\n"
     ]
    }
   ],
   "source": [
    "#include <stdio.h>\n",
    "\n",
    "#define STARTS \"*******************************\"\n",
    "\n",
    "float add_my(float x, float y);\n",
    "\n",
    "int main(void)\n",
    "{\n",
    "    printf(\"%s\\n\", STARTS);\n",
    "\n",
    "    float x, y, add_res;\n",
    "\n",
    "    x = 1;\n",
    "    y = 2;\n",
    "\n",
    "    add_res = add_my(x, y);\n",
    "    printf(\"add: %f\\n\", add_res);\n",
    "\n",
    "    printf(\"%s\\n\", STARTS);\n",
    "\n",
    "    return 0;\n",
    "}\n",
    "\n",
    "\n",
    "float add_my(float x, float y){\n",
    "    \n",
    "    return x + y;\n",
    "}"
   ]
  },
  {
   "cell_type": "code",
   "execution_count": null,
   "metadata": {},
   "outputs": [],
   "source": []
  }
 ],
 "metadata": {
  "kernelspec": {
   "display_name": "C",
   "language": "c",
   "name": "c"
  },
  "language_info": {
   "file_extension": ".c",
   "mimetype": "text/plain",
   "name": "c"
  }
 },
 "nbformat": 4,
 "nbformat_minor": 4
}
